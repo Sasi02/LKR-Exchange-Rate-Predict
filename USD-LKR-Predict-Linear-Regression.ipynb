{
 "cells": [
  {
   "cell_type": "code",
   "execution_count": 31,
   "id": "fc4a96be",
   "metadata": {},
   "outputs": [],
   "source": [
    "# Import the packages\n",
    "import pandas as pd\n",
    "import numpy as np\n",
    "import math \n",
    "import seaborn as sns \n",
    "import matplotlib.pyplot as plt\n",
    "from sklearn import metrics\n",
    "from sklearn.model_selection import train_test_split"
   ]
  },
  {
   "cell_type": "code",
   "execution_count": 32,
   "id": "c9579c28",
   "metadata": {},
   "outputs": [
    {
     "data": {
      "text/html": [
       "<div>\n",
       "<style scoped>\n",
       "    .dataframe tbody tr th:only-of-type {\n",
       "        vertical-align: middle;\n",
       "    }\n",
       "\n",
       "    .dataframe tbody tr th {\n",
       "        vertical-align: top;\n",
       "    }\n",
       "\n",
       "    .dataframe thead th {\n",
       "        text-align: right;\n",
       "    }\n",
       "</style>\n",
       "<table border=\"1\" class=\"dataframe\">\n",
       "  <thead>\n",
       "    <tr style=\"text-align: right;\">\n",
       "      <th></th>\n",
       "      <th>Date</th>\n",
       "      <th>Price</th>\n",
       "      <th>Open</th>\n",
       "      <th>High</th>\n",
       "      <th>Low</th>\n",
       "      <th>Change %</th>\n",
       "    </tr>\n",
       "  </thead>\n",
       "  <tbody>\n",
       "    <tr>\n",
       "      <th>0</th>\n",
       "      <td>12/26/1979</td>\n",
       "      <td>15.552</td>\n",
       "      <td>15.552</td>\n",
       "      <td>15.552</td>\n",
       "      <td>15.552</td>\n",
       "      <td>0.00%</td>\n",
       "    </tr>\n",
       "    <tr>\n",
       "      <th>1</th>\n",
       "      <td>12/27/1979</td>\n",
       "      <td>15.552</td>\n",
       "      <td>15.552</td>\n",
       "      <td>15.552</td>\n",
       "      <td>15.552</td>\n",
       "      <td>0.00%</td>\n",
       "    </tr>\n",
       "    <tr>\n",
       "      <th>2</th>\n",
       "      <td>12/28/1979</td>\n",
       "      <td>15.552</td>\n",
       "      <td>15.552</td>\n",
       "      <td>15.552</td>\n",
       "      <td>15.552</td>\n",
       "      <td>0.00%</td>\n",
       "    </tr>\n",
       "    <tr>\n",
       "      <th>3</th>\n",
       "      <td>12/31/1979</td>\n",
       "      <td>15.552</td>\n",
       "      <td>15.552</td>\n",
       "      <td>15.552</td>\n",
       "      <td>15.552</td>\n",
       "      <td>0.00%</td>\n",
       "    </tr>\n",
       "    <tr>\n",
       "      <th>4</th>\n",
       "      <td>1/2/1980</td>\n",
       "      <td>15.552</td>\n",
       "      <td>15.552</td>\n",
       "      <td>15.552</td>\n",
       "      <td>15.552</td>\n",
       "      <td>0.00%</td>\n",
       "    </tr>\n",
       "  </tbody>\n",
       "</table>\n",
       "</div>"
      ],
      "text/plain": [
       "         Date   Price    Open    High     Low Change %\n",
       "0  12/26/1979  15.552  15.552  15.552  15.552    0.00%\n",
       "1  12/27/1979  15.552  15.552  15.552  15.552    0.00%\n",
       "2  12/28/1979  15.552  15.552  15.552  15.552    0.00%\n",
       "3  12/31/1979  15.552  15.552  15.552  15.552    0.00%\n",
       "4    1/2/1980  15.552  15.552  15.552  15.552    0.00%"
      ]
     },
     "execution_count": 32,
     "metadata": {},
     "output_type": "execute_result"
    }
   ],
   "source": [
    "# Read the data file\n",
    "df = pd.read_csv('./USD_LKR_Dataset.csv')\n",
    "df.head()"
   ]
  },
  {
   "cell_type": "code",
   "execution_count": 33,
   "id": "eb7d7b77",
   "metadata": {},
   "outputs": [
    {
     "data": {
      "text/html": [
       "<div>\n",
       "<style scoped>\n",
       "    .dataframe tbody tr th:only-of-type {\n",
       "        vertical-align: middle;\n",
       "    }\n",
       "\n",
       "    .dataframe tbody tr th {\n",
       "        vertical-align: top;\n",
       "    }\n",
       "\n",
       "    .dataframe thead th {\n",
       "        text-align: right;\n",
       "    }\n",
       "</style>\n",
       "<table border=\"1\" class=\"dataframe\">\n",
       "  <thead>\n",
       "    <tr style=\"text-align: right;\">\n",
       "      <th></th>\n",
       "      <th>Open</th>\n",
       "    </tr>\n",
       "    <tr>\n",
       "      <th>Date</th>\n",
       "      <th></th>\n",
       "    </tr>\n",
       "  </thead>\n",
       "  <tbody>\n",
       "    <tr>\n",
       "      <th>1979-12-26</th>\n",
       "      <td>15.552</td>\n",
       "    </tr>\n",
       "    <tr>\n",
       "      <th>1979-12-27</th>\n",
       "      <td>15.552</td>\n",
       "    </tr>\n",
       "    <tr>\n",
       "      <th>1979-12-28</th>\n",
       "      <td>15.552</td>\n",
       "    </tr>\n",
       "    <tr>\n",
       "      <th>1979-12-31</th>\n",
       "      <td>15.552</td>\n",
       "    </tr>\n",
       "    <tr>\n",
       "      <th>1980-01-02</th>\n",
       "      <td>15.552</td>\n",
       "    </tr>\n",
       "  </tbody>\n",
       "</table>\n",
       "</div>"
      ],
      "text/plain": [
       "              Open\n",
       "Date              \n",
       "1979-12-26  15.552\n",
       "1979-12-27  15.552\n",
       "1979-12-28  15.552\n",
       "1979-12-31  15.552\n",
       "1980-01-02  15.552"
      ]
     },
     "execution_count": 33,
     "metadata": {},
     "output_type": "execute_result"
    }
   ],
   "source": [
    "# Change the Index and Modify the table\n",
    "df.index = pd.to_datetime(df['Date'])\n",
    "\n",
    "df.drop(['Date'], inplace=True, axis='columns')\n",
    "\n",
    "df = df[['Open']]\n",
    "df.head()"
   ]
  },
  {
   "cell_type": "code",
   "execution_count": 34,
   "id": "c2900b52",
   "metadata": {},
   "outputs": [
    {
     "name": "stdout",
     "output_type": "stream",
     "text": [
      "<class 'pandas.core.frame.DataFrame'>\n",
      "DatetimeIndex: 10372 entries, 1979-12-26 to 2021-11-03\n",
      "Data columns (total 1 columns):\n",
      " #   Column  Non-Null Count  Dtype  \n",
      "---  ------  --------------  -----  \n",
      " 0   Open    10372 non-null  float64\n",
      "dtypes: float64(1)\n",
      "memory usage: 162.1 KB\n"
     ]
    }
   ],
   "source": [
    "# Refer basic info of the file\n",
    "df.info()"
   ]
  },
  {
   "cell_type": "code",
   "execution_count": 35,
   "id": "4d50620c",
   "metadata": {},
   "outputs": [
    {
     "data": {
      "text/plain": [
       "[<matplotlib.lines.Line2D at 0x2018fd3cfa0>]"
      ]
     },
     "execution_count": 35,
     "metadata": {},
     "output_type": "execute_result"
    },
    {
     "data": {
      "image/png": "[encoded data removed]",
      "text/plain": [
       "<Figure size 1152x576 with 1 Axes>"
      ]
     },
     "metadata": {
      "needs_background": "light"
     },
     "output_type": "display_data"
    }
   ],
   "source": [
    "# Check the data distribution\n",
    "plt.figure(figsize=(16,8))\n",
    "plt.plot(df['Open'], label='Open Price history')"
   ]
  },
  {
   "cell_type": "code",
   "execution_count": 36,
   "id": "473dc5dd",
   "metadata": {},
   "outputs": [
    {
     "data": {
      "text/plain": [
       "Date\n",
       "1979-12-26           NaN\n",
       "1979-12-27           NaN\n",
       "1979-12-28           NaN\n",
       "1979-12-31           NaN\n",
       "1980-01-02           NaN\n",
       "                 ...    \n",
       "2021-10-28    201.378332\n",
       "2021-10-29    201.491363\n",
       "2021-11-01    201.583842\n",
       "2021-11-02    201.568598\n",
       "2021-11-03    201.647035\n",
       "Name: EMA_10, Length: 10372, dtype: float64"
      ]
     },
     "execution_count": 36,
     "metadata": {},
     "output_type": "execute_result"
    }
   ],
   "source": [
    "import pandas_ta\n",
    "\n",
    "# Adding EMA to the data set\n",
    "df.ta.ema(close='Open', length=10, append=True)"
   ]
  },
  {
   "cell_type": "code",
   "execution_count": 37,
   "id": "8a8b2ccd",
   "metadata": {},
   "outputs": [
    {
     "data": {
      "text/html": [
       "<div>\n",
       "<style scoped>\n",
       "    .dataframe tbody tr th:only-of-type {\n",
       "        vertical-align: middle;\n",
       "    }\n",
       "\n",
       "    .dataframe tbody tr th {\n",
       "        vertical-align: top;\n",
       "    }\n",
       "\n",
       "    .dataframe thead th {\n",
       "        text-align: right;\n",
       "    }\n",
       "</style>\n",
       "<table border=\"1\" class=\"dataframe\">\n",
       "  <thead>\n",
       "    <tr style=\"text-align: right;\">\n",
       "      <th></th>\n",
       "      <th>Open</th>\n",
       "      <th>EMA_10</th>\n",
       "    </tr>\n",
       "    <tr>\n",
       "      <th>Date</th>\n",
       "      <th></th>\n",
       "      <th></th>\n",
       "    </tr>\n",
       "  </thead>\n",
       "  <tbody>\n",
       "    <tr>\n",
       "      <th>1980-01-09</th>\n",
       "      <td>15.552</td>\n",
       "      <td>15.552</td>\n",
       "    </tr>\n",
       "    <tr>\n",
       "      <th>1980-01-10</th>\n",
       "      <td>15.552</td>\n",
       "      <td>15.552</td>\n",
       "    </tr>\n",
       "    <tr>\n",
       "      <th>1980-01-11</th>\n",
       "      <td>15.552</td>\n",
       "      <td>15.552</td>\n",
       "    </tr>\n",
       "    <tr>\n",
       "      <th>1980-01-14</th>\n",
       "      <td>15.552</td>\n",
       "      <td>15.552</td>\n",
       "    </tr>\n",
       "    <tr>\n",
       "      <th>1980-01-15</th>\n",
       "      <td>15.552</td>\n",
       "      <td>15.552</td>\n",
       "    </tr>\n",
       "  </tbody>\n",
       "</table>\n",
       "</div>"
      ],
      "text/plain": [
       "              Open  EMA_10\n",
       "Date                      \n",
       "1980-01-09  15.552  15.552\n",
       "1980-01-10  15.552  15.552\n",
       "1980-01-11  15.552  15.552\n",
       "1980-01-14  15.552  15.552\n",
       "1980-01-15  15.552  15.552"
      ]
     },
     "execution_count": 37,
     "metadata": {},
     "output_type": "execute_result"
    }
   ],
   "source": [
    "# Normalize the Data\n",
    "df = df[df['EMA_10'].notna()]\n",
    "\n",
    "df.head()"
   ]
  },
  {
   "cell_type": "code",
   "execution_count": 38,
   "id": "87235f30",
   "metadata": {},
   "outputs": [],
   "source": [
    "# Split the Data\n",
    "X_train, X_test, y_train, y_test = train_test_split(df[['Open']], df[['EMA_10']], test_size=.2)"
   ]
  },
  {
   "cell_type": "code",
   "execution_count": 39,
   "id": "3bb525e4",
   "metadata": {},
   "outputs": [],
   "source": [
    "from sklearn.linear_model import LinearRegression\n",
    "\n",
    "# Create Linear Regression Model\n",
    "model = LinearRegression()\n",
    "\n",
    "# Train the model\n",
    "model.fit(X_train, y_train)\n",
    "\n",
    "# Use model to make predictions\n",
    "y_pred = model.predict(X_test)"
   ]
  },
  {
   "cell_type": "code",
   "execution_count": 40,
   "id": "d545105c",
   "metadata": {},
   "outputs": [
    {
     "name": "stdout",
     "output_type": "stream",
     "text": [
      "Model Coefficients: [[0.99904263]]\n",
      "Mean Absolute Error: 0.192987936578188\n",
      "Coefficient of Determination: 0.9999383075603413\n"
     ]
    }
   ],
   "source": [
    "from sklearn.metrics import mean_squared_error, r2_score, mean_absolute_error\n",
    "\n",
    "# Results\n",
    "print(\"Model Coefficients:\", model.coef_)\n",
    "print(\"Mean Absolute Error:\", mean_absolute_error(y_test, y_pred))\n",
    "print(\"Coefficient of Determination:\", r2_score(y_test, y_pred))"
   ]
  },
  {
   "cell_type": "code",
   "execution_count": null,
   "id": "321f984f",
   "metadata": {},
   "outputs": [],
   "source": []
  }
 ],
 "metadata": {
  "kernelspec": {
   "display_name": "Python 3",
   "language": "python",
   "name": "python3"
  },
  "language_info": {
   "codemirror_mode": {
    "name": "ipython",
    "version": 3
   },
   "file_extension": ".py",
   "mimetype": "text/x-python",
   "name": "python",
   "nbconvert_exporter": "python",
   "pygments_lexer": "ipython3",
   "version": "3.8.8"
  }
 },
 "nbformat": 4,
 "nbformat_minor": 5
}
